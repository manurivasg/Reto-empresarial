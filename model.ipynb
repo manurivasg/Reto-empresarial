{
 "cells": [
  {
   "cell_type": "code",
   "execution_count": 31,
   "metadata": {},
   "outputs": [],
   "source": [
    "import tensorflow as tf\n",
    "import os as os\n",
    "import numpy as np\n",
    "import cv2\n",
    "import imghdr\n",
    "from tensorflow.keras.models import Sequential\n",
    "from tensorflow.keras.layers import Conv2D, MaxPooling2D, Dense, Flatten\n"
   ]
  },
  {
   "cell_type": "code",
   "execution_count": 32,
   "metadata": {},
   "outputs": [],
   "source": [
    "gpus = tf.config.experimental.list_physical_devices('GPU')\n",
    "for gpu in gpus: \n",
    "    tf.config.experimental.set_memory_growth(gpu, True)"
   ]
  },
  {
   "cell_type": "code",
   "execution_count": 33,
   "metadata": {},
   "outputs": [],
   "source": [
    "image_exts = ['jpeg','jpg', 'bmp', 'png']\n",
    "data_dir = \"Rice_Image_Dataset\\Train\"\n",
    "\n",
    "for image_class in os.listdir(data_dir): \n",
    "    for image in os.listdir(os.path.join(data_dir, image_class)):\n",
    "        image_path = os.path.join(data_dir, image_class, image)\n",
    "        try: \n",
    "            img = cv2.imread(image_path)\n",
    "            tip = imghdr.what(image_path)\n",
    "            if tip not in image_exts: \n",
    "                print('Image not in ext list {}'.format(image_path))\n",
    "                os.remove(image_path)\n",
    "        except Exception as e: \n",
    "            print('Issue with image {}'.format(image_path))"
   ]
  },
  {
   "cell_type": "code",
   "execution_count": 34,
   "metadata": {},
   "outputs": [
    {
     "name": "stdout",
     "output_type": "stream",
     "text": [
      "Found 50000 files belonging to 5 classes.\n"
     ]
    }
   ],
   "source": [
    "data = tf.keras.utils.image_dataset_from_directory('Rice_Image_Dataset\\Train',image_size = (64,64))\n",
    "scaled_data = data.map(lambda x,y: (x/255, y))\n",
    "batch = scaled_data.as_numpy_iterator().next()"
   ]
  },
  {
   "cell_type": "code",
   "execution_count": 35,
   "metadata": {},
   "outputs": [],
   "source": [
    "train_size = int(len(scaled_data)*0.8)\n",
    "val_size = int(len(scaled_data)*0.2)\n",
    "\n",
    "train = scaled_data.take(train_size)\n",
    "val = scaled_data.skip(train_size).take(val_size)"
   ]
  },
  {
   "cell_type": "code",
   "execution_count": 36,
   "metadata": {},
   "outputs": [
    {
     "data": {
      "text/plain": [
       "<_TakeDataset element_spec=(TensorSpec(shape=(None, 64, 64, 3), dtype=tf.float32, name=None), TensorSpec(shape=(None,), dtype=tf.int32, name=None))>"
      ]
     },
     "execution_count": 36,
     "metadata": {},
     "output_type": "execute_result"
    }
   ],
   "source": [
    "train"
   ]
  },
  {
   "cell_type": "code",
   "execution_count": 40,
   "metadata": {},
   "outputs": [],
   "source": [
    "model = Sequential()\n",
    "model.add(Conv2D(16, (3,3), 1, activation='relu', input_shape=(64,64,3)))\n",
    "model.add(MaxPooling2D())\n",
    "model.add(Conv2D(16, (3,3), 1, activation='relu'))\n",
    "model.add(MaxPooling2D())\n",
    "model.add(Flatten())\n",
    "model.add(Dense(500, activation='relu'))\n",
    "model.add(Dense(5, activation='sigmoid'))\n",
    "model.compile('adam', loss=tf.losses.SparseCategoricalCrossentropy(from_logits=True), metrics=['accuracy'])"
   ]
  },
  {
   "cell_type": "code",
   "execution_count": 41,
   "metadata": {},
   "outputs": [
    {
     "name": "stdout",
     "output_type": "stream",
     "text": [
      "Model: \"sequential_9\"\n",
      "_________________________________________________________________\n",
      " Layer (type)                Output Shape              Param #   \n",
      "=================================================================\n",
      " conv2d_19 (Conv2D)          (None, 62, 62, 16)        448       \n",
      "                                                                 \n",
      " max_pooling2d_19 (MaxPooli  (None, 31, 31, 16)        0         \n",
      " ng2D)                                                           \n",
      "                                                                 \n",
      " conv2d_20 (Conv2D)          (None, 29, 29, 16)        2320      \n",
      "                                                                 \n",
      " max_pooling2d_20 (MaxPooli  (None, 14, 14, 16)        0         \n",
      " ng2D)                                                           \n",
      "                                                                 \n",
      " flatten_9 (Flatten)         (None, 3136)              0         \n",
      "                                                                 \n",
      " dense_18 (Dense)            (None, 500)               1568500   \n",
      "                                                                 \n",
      " dense_19 (Dense)            (None, 5)                 2505      \n",
      "                                                                 \n",
      "=================================================================\n",
      "Total params: 1573773 (6.00 MB)\n",
      "Trainable params: 1573773 (6.00 MB)\n",
      "Non-trainable params: 0 (0.00 Byte)\n",
      "_________________________________________________________________\n"
     ]
    }
   ],
   "source": [
    "model.summary()"
   ]
  },
  {
   "cell_type": "code",
   "execution_count": 43,
   "metadata": {},
   "outputs": [
    {
     "name": "stdout",
     "output_type": "stream",
     "text": [
      "Epoch 1/20\n",
      "1250/1250 [==============================] - 141s 113ms/step - loss: 0.0679 - accuracy: 0.9769 - val_loss: 0.0558 - val_accuracy: 0.9800\n",
      "Epoch 2/20\n",
      "1250/1250 [==============================] - 145s 116ms/step - loss: 0.0452 - accuracy: 0.9850 - val_loss: 0.0370 - val_accuracy: 0.9866\n",
      "Epoch 3/20\n",
      "1250/1250 [==============================] - 140s 112ms/step - loss: 0.0333 - accuracy: 0.9886 - val_loss: 0.0383 - val_accuracy: 0.9872\n",
      "Epoch 4/20\n",
      "1250/1250 [==============================] - 140s 112ms/step - loss: 0.0244 - accuracy: 0.9916 - val_loss: 0.0240 - val_accuracy: 0.9929\n",
      "Epoch 5/20\n",
      "1250/1250 [==============================] - 137s 110ms/step - loss: 0.0197 - accuracy: 0.9928 - val_loss: 0.0263 - val_accuracy: 0.9916\n",
      "Epoch 6/20\n",
      "1250/1250 [==============================] - 141s 112ms/step - loss: 0.0171 - accuracy: 0.9941 - val_loss: 0.0263 - val_accuracy: 0.9912\n",
      "Epoch 7/20\n",
      "1250/1250 [==============================] - 136s 109ms/step - loss: 0.0155 - accuracy: 0.9948 - val_loss: 0.0290 - val_accuracy: 0.9914\n",
      "Epoch 8/20\n",
      "1250/1250 [==============================] - 139s 111ms/step - loss: 0.0127 - accuracy: 0.9957 - val_loss: 0.0199 - val_accuracy: 0.9941\n",
      "Epoch 9/20\n",
      "1250/1250 [==============================] - 138s 111ms/step - loss: 0.0107 - accuracy: 0.9967 - val_loss: 0.0207 - val_accuracy: 0.9942\n",
      "Epoch 10/20\n",
      "1250/1250 [==============================] - 137s 109ms/step - loss: 0.0128 - accuracy: 0.9953 - val_loss: 0.0219 - val_accuracy: 0.9940\n",
      "Epoch 11/20\n",
      "1250/1250 [==============================] - 138s 110ms/step - loss: 0.0100 - accuracy: 0.9966 - val_loss: 0.0195 - val_accuracy: 0.9939\n",
      "Epoch 12/20\n",
      "1250/1250 [==============================] - 140s 112ms/step - loss: 0.0074 - accuracy: 0.9973 - val_loss: 0.0283 - val_accuracy: 0.9909\n",
      "Epoch 13/20\n",
      "1250/1250 [==============================] - 138s 111ms/step - loss: 0.0088 - accuracy: 0.9970 - val_loss: 0.0317 - val_accuracy: 0.9915\n",
      "Epoch 14/20\n",
      "1250/1250 [==============================] - 138s 110ms/step - loss: 0.0045 - accuracy: 0.9985 - val_loss: 0.0183 - val_accuracy: 0.9952\n",
      "Epoch 15/20\n",
      "1250/1250 [==============================] - 138s 110ms/step - loss: 0.0077 - accuracy: 0.9975 - val_loss: 0.0226 - val_accuracy: 0.9955\n",
      "Epoch 16/20\n",
      "1250/1250 [==============================] - 138s 110ms/step - loss: 0.0064 - accuracy: 0.9978 - val_loss: 0.0321 - val_accuracy: 0.9932\n",
      "Epoch 17/20\n",
      "1250/1250 [==============================] - 140s 112ms/step - loss: 0.0071 - accuracy: 0.9977 - val_loss: 0.0249 - val_accuracy: 0.9943\n",
      "Epoch 18/20\n",
      "1250/1250 [==============================] - 138s 110ms/step - loss: 0.0047 - accuracy: 0.9984 - val_loss: 0.0214 - val_accuracy: 0.9950\n",
      "Epoch 19/20\n",
      "1250/1250 [==============================] - 141s 112ms/step - loss: 0.0070 - accuracy: 0.9977 - val_loss: 0.0216 - val_accuracy: 0.9955\n",
      "Epoch 20/20\n",
      "1250/1250 [==============================] - 135s 108ms/step - loss: 0.0064 - accuracy: 0.9978 - val_loss: 0.0291 - val_accuracy: 0.9939\n"
     ]
    }
   ],
   "source": [
    "logdir='logs'\n",
    "\n",
    "tensorboard_callback = tf.keras.callbacks.TensorBoard(log_dir=logdir)\n",
    "hist = model.fit(train, epochs=20, validation_data=val, callbacks=[tensorboard_callback])"
   ]
  },
  {
   "cell_type": "code",
   "execution_count": 45,
   "metadata": {},
   "outputs": [],
   "source": [
    "model.save('RiceClassifier.h5')\n"
   ]
  },
  {
   "cell_type": "code",
   "execution_count": null,
   "metadata": {},
   "outputs": [],
   "source": []
  }
 ],
 "metadata": {
  "kernelspec": {
   "display_name": "Python 3",
   "language": "python",
   "name": "python3"
  },
  "language_info": {
   "codemirror_mode": {
    "name": "ipython",
    "version": 3
   },
   "file_extension": ".py",
   "mimetype": "text/x-python",
   "name": "python",
   "nbconvert_exporter": "python",
   "pygments_lexer": "ipython3",
   "version": "3.11.4"
  },
  "orig_nbformat": 4
 },
 "nbformat": 4,
 "nbformat_minor": 2
}
